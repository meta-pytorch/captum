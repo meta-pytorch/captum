{
 "cells": [
  {
   "cell_type": "markdown",
   "metadata": {},
   "source": [
    "# PGExplainer Tutorial\n",
    "\n",
    "This tutorial demonstrates how to use `PGExplainer` from the Captum library to explain predictions made by a Graph Neural Network (GNN). PGExplainer trains a parameterized neural network (the explainer network) to generate edge masks that explain the GNN's predictions.\n",
    "\n",
    "**Reference:** [Parameterized Explainer for Graph Neural Network](https://arxiv.org/abs/2004.11990) (Note: The original prompt had a different link, this is a commonly cited one. Please verify against the intended reference in Captum's context.)"
   ]
  },
  {
   "cell_type": "markdown",
   "metadata": {},
   "source": [
    "## 1. Setup\n",
    "\n",
    "Install and import necessary libraries."
   ]
  },
  {
   "cell_type": "code",
   "execution_count": null,
   "metadata": {},
   "outputs": [],
   "source": [
    "!pip install -q torch torchvision torchaudio\n",
    "!pip install -q torch_geometric\n",
    "!pip install -q captum\n",
    "!pip install -q networkx matplotlib"
   ]
  },
  {
   "cell_type": "code",
   "execution_count": null,
   "metadata": {},
   "outputs": [],
   "source": [
    "import torch\n",
    "import torch.nn as nn\n",
    "import torch.nn.functional as F\n",
    "from torch_geometric.datasets import KarateClub\n",
    "from torch_geometric.nn import GCNConv\n",
    "from torch_geometric.utils import to_networkx\n",
    "import networkx as nx\n",
    "import matplotlib.pyplot as plt\n",
    "\n",
    "# Assuming PGExplainer is in this path or installed\n",
    "from captum.attr._gnn.pg_explainer import PGExplainer # Adjust if necessary\n",
    "\n",
    "device = torch.device('cuda' if torch.cuda.is_available() else 'cpu')"
   ]
  },
  {
   "cell_type": "markdown",
   "metadata": {},
   "source": [
    "## 2. Data Loading\n",
    "\n",
    "We use Zachary's Karate Club dataset."
   ]
  },
  {
   "cell_type": "code",
   "execution_count": null,
   "metadata": {},
   "outputs": [],
   "source": [
    "dataset = KarateClub()\n",
    "data = dataset[0].to(device)\n",
    "print(f\"Dataset: {dataset.name}\")\n",
    "print(f\"Nodes: {data.num_nodes}, Edges: {data.num_edges}, Features: {data.num_node_features}, Classes: {dataset.num_classes}\")"
   ]
  },
  {
   "cell_type": "markdown",
   "metadata": {},
   "source": [
    "## 3. GNN Model Definition (Main Model to Explain)\n",
    "\n",
    "Define and train a simple GCN model. PGExplainer will explain this model's predictions."
   ]
  },
  {
   "cell_type": "code",
   "execution_count": null,
   "metadata": {},
   "outputs": [],
   "source": [
    "class GCN(torch.nn.Module):\n",
    "    def __init__(self, in_channels, hidden_channels, out_channels):\n",
    "        super(GCN, self).__init__()\n",
    "        self.conv1 = GCNConv(in_channels, hidden_channels)\n",
    "        self.conv2 = GCNConv(hidden_channels, out_channels)\n",
    "\n",
    "    def forward(self, x, edge_index, edge_weight=None):\n",
    "        # PGExplainer will pass learned edge_weights here\n",
    "        x = self.conv1(x, edge_index, edge_weight=edge_weight)\n",
    "        x = F.relu(x)\n",
    "        x = F.dropout(x, training=self.training)\n",
    "        x = self.conv2(x, edge_index, edge_weight=edge_weight) # Also pass to conv2\n",
    "        return F.log_softmax(x, dim=1)\n",
    "\n",
    "gnn_model = GCN(dataset.num_node_features, 16, dataset.num_classes).to(device)\n",
    "\n",
    "# Train the GNN model\n",
    "optimizer_gnn = torch.optim.Adam(gnn_model.parameters(), lr=0.01, weight_decay=5e-4)\n",
    "gnn_model.train()\n",
    "for epoch in range(200):\n",
    "    optimizer_gnn.zero_grad()\n",
    "    out = gnn_model(data.x, data.edge_index)\n",
    "    loss = F.nll_loss(out[data.train_mask], data.y[data.train_mask])\n",
    "    loss.backward()\n",
    "    optimizer_gnn.step()\n",
    "    if epoch % 20 == 0:\n",
    "        print(f\"GNN Training Epoch {epoch}, Loss: {loss.item():.4f}\")\n",
    "\n",
    "gnn_model.eval()\n",
    "_, pred_labels = gnn_model(data.x, data.edge_index).max(dim=1)\n",
    "correct_nodes = (pred_labels[data.test_mask] == data.y[data.test_mask]).sum()\n",
    "accuracy = int(correct_nodes) / int(data.test_mask.sum())\n",
    "print(f'GNN Test Accuracy: {accuracy:.4f}')"
   ]
  },
  {
   "cell_type": "markdown",
   "metadata": {},
   "source": [
    "## 4. Explainer Network Definition\n",
    "\n",
    "Define the network that PGExplainer will train to generate edge masks. It typically takes concatenated features of an edge's source and target nodes."
   ]
  },
  {
   "cell_type": "code",
   "execution_count": null,
   "metadata": {},
   "outputs": [],
   "source": [
    "class PGExplainerNet(nn.Module):\n",
    "    def __init__(self, input_dim, hidden_dim=32, output_dim=1):\n",
    "        super().__init__()\n",
    "        # input_dim = 2 * node_feature_dim (from PGExplainer._get_explainer_inputs)\n",
    "        self.fc1 = nn.Linear(input_dim, hidden_dim)\n",
    "        self.fc2 = nn.Linear(hidden_dim, output_dim)\n",
    "\n",
    "    def forward(self, x, edge_index, **kwargs): # edge_index might be used for context\n",
    "        x = F.relu(self.fc1(x))\n",
    "        x = self.fc2(x) # Raw logits for the edge mask\n",
    "        return x\n",
    "\n",
    "# The input dimension for the explainer network is 2 * num_node_features\n",
    "# because PGExplainer._get_explainer_inputs concatenates features of src and dest nodes.\n",
    "explainer_input_dim = 2 * data.num_node_features\n",
    "explainer_net = PGExplainerNet(explainer_input_dim).to(device)"
   ]
  },
  {
   "cell_type": "markdown",
   "metadata": {},
   "source": [
    "## 5. PGExplainer Initialization\n",
    "\n",
    "Instantiate PGExplainer with the trained GNN and the explainer network."
   ]
  },
  {
   "cell_type": "code",
   "execution_count": null,
   "metadata": {},
   "outputs": [],
   "source": [
    "pg_explainer = PGExplainer(gnn_model, explainer_net)"
   ]
  },
  {
   "cell_type": "markdown",
   "metadata": {},
   "source": [
    "## 6. Training the PGExplainer (Explainer Network)\n",
    "\n",
    "Call `attribute` in `train_mode=True` to train the `explainer_net`."
   ]
  },
  {
   "cell_type": "code",
   "execution_count": null,
   "metadata": {},
   "outputs": [],
   "source": [
    "print(\"Starting PGExplainer (explainer_net) training...\")\n",
    "# For training, we might focus on explaining all nodes or a subset.\n",
    "# PGExplainer's loss internally handles predictions for nodes/graphs.\n",
    "# If target_node_idx is not provided, it might assume graph-level or use all nodes.\n",
    "# Let's train it to explain predictions for all nodes in the training mask.\n",
    "\n",
    "pg_explainer.attribute(\n",
    "    inputs=data.x,\n",
    "    edge_index=data.edge_index,\n",
    "    target_node_idx=data.train_mask.nonzero().squeeze(), # Explain training nodes\n",
    "    # target_class can be omitted to use GNN's predictions for loss\n",
    "    train_mode=True,\n",
    "    epochs=50, # Number of epochs to train the explainer_net\n",
    "    lr=0.005,\n",
    "    # loss_coeffs can be specified, otherwise defaults are used\n",
    ")\n",
    "print(\"PGExplainer training finished.\")"
   ]
  },
  {
   "cell_type": "markdown",
   "metadata": {},
   "source": [
    "## 7. Generating Explanations (Inference)\n",
    "\n",
    "After training `explainer_net`, use `attribute` in `train_mode=False` to get edge masks."
   ]
  },
  {
   "cell_type": "code",
   "execution_count": null,
   "metadata": {},
   "outputs": [],
   "source": [
    "print(\"Generating edge mask using trained PGExplainer...\")\n",
    "edge_mask = pg_explainer.attribute(\n",
    "    inputs=data.x,\n",
    "    edge_index=data.edge_index,\n",
    "    train_mode=False\n",
    ")\n",
    "\n",
    "print(f\"Generated edge mask shape: {edge_mask.shape}\")\n",
    "print(\"Edge Mask (first 10 edges):\")\n",
    "print(edge_mask[:10])"
   ]
  },
  {
   "cell_type": "markdown",
   "metadata": {},
   "source": [
    "## 8. Visualization\n",
    "\n",
    "Visualize the explanation by highlighting important edges."
   ]
  },
  {
   "cell_type": "code",
   "execution_count": null,
   "metadata": {},
   "outputs": [],
   "source": [
    "def plot_pg_explanation(edge_index, edge_mask, title, node_labels=None, threshold=0.7):\n",
    "    num_nodes = edge_index.max().item() + 1\n",
    "    g_nx = nx.Graph()\n",
    "    g_nx.add_nodes_from(range(num_nodes))\n",
    "    \n",
    "    for i, (u, v) in enumerate(edge_index.t().tolist()):\n",
    "        g_nx.add_edge(u, v, weight=edge_mask[i].item())\n",
    "        \n",
    "    pos = nx.spring_layout(g_nx, seed=42)\n",
    "    \n",
    "    plt.figure(figsize=(10, 8))\n",
    "    \n",
    "    node_color = ['lightblue'] * num_nodes\n",
    "    # Example: if you want to highlight a specific node for context, e.g., node 0\n",
    "    # node_color[0] = 'pink' \n",
    "    nx.draw_networkx_nodes(g_nx, pos, node_color=node_color, node_size=500)\n",
    "    \n",
    "    edge_weights = [g_nx[u][v]['weight'] for u, v in g_nx.edges()]\n",
    "    edge_alphas = [w if w > threshold else 0.1 for w in edge_weights]\n",
    "    edge_widths = [3*w if w > threshold else 0.5 for w in edge_weights]\n",
    "\n",
    "    nx.draw_networkx_edges(g_nx, pos, width=edge_widths, alpha=edge_alphas, edge_color='gray')\n",
    "    \n",
    "    if node_labels is not None:\n",
    "        labels = {i: f\"{i}\\n(L:{node_labels[i].item()})\" for i in g_nx.nodes()}\n",
    "    else:\n",
    "        labels = {i: str(i) for i in g_nx.nodes()}\n",
    "    nx.draw_networkx_labels(g_nx, pos, labels=labels, font_size=10)\n",
    "    \n",
    "    plt.title(title)\n",
    "    plt.axis('off')\n",
    "    plt.show()\n",
    "\n",
    "plot_pg_explanation(data.edge_index, edge_mask, \n",
    "                      f'PGExplainer - Edge Importance Mask (Thresholded)',\n",
    "                      node_labels=data.y, threshold=0.5) # Adjust threshold for visualization"
   ]
  },
  {
   "cell_type": "markdown",
   "metadata": {},
   "source": [
    "The plot shows the graph with edges weighted by their importance according to the trained PGExplainer. Thicker/more opaque edges are considered more important by the explainer for the GNN's predictions (in general, as PGExplainer is trained over multiple instances/predictions)."
   ]
  },
  {
   "cell_type": "markdown",
   "metadata": {},
   "source": [
    "## 9. Conclusion\n",
    "\n",
    "This tutorial demonstrated the workflow for `PGExplainer`:\n",
    "1. Training a GNN model that you want to explain.\n",
    "2. Defining an `explainer_net` (a small neural network).\n",
    "3. Instantiating `PGExplainer` with both the GNN and the `explainer_net`.\n",
    "4. Training the `explainer_net` by calling `attribute` in `train_mode=True`.\n",
    "5. Generating global edge importance masks using the trained `explainer_net` by calling `attribute` in `train_mode=False`.\n",
    "6. Visualizing the resulting edge mask.\n",
    "\n",
    "PGExplainer provides a powerful way to get instance-agnostic (or amortized instance-level, depending on training) explanations by learning a dedicated explanation generation model."
   ]
  }
 ],
 "metadata": {
  "kernelspec": {
   "display_name": "Python 3",
   "language": "python",
   "name": "python3"
  },
  "language_info": {
   "codemirror_mode": {
    "name": "ipython",
    "version": 3
   },
   "file_extension": ".py",
   "mimetype": "text/x-python",
   "name": "python",
   "nbconvert_exporter": "python",
   "pygments_lexer": "ipython3",
   "version": "3.9.7" # Example version
  }
 },
 "nbformat": 4,
 "nbformat_minor": 2
}
